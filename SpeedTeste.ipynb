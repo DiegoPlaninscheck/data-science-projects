{
 "cells": [
  {
   "cell_type": "code",
   "execution_count": 9,
   "id": "8bd490c6",
   "metadata": {},
   "outputs": [],
   "source": [
    "import speedtest"
   ]
  },
  {
   "cell_type": "code",
   "execution_count": 19,
   "id": "648fbb89",
   "metadata": {},
   "outputs": [],
   "source": [
    "teste = speedtest.Speedtest()"
   ]
  },
  {
   "cell_type": "code",
   "execution_count": 25,
   "id": "59677b6f",
   "metadata": {},
   "outputs": [
    {
     "data": {
      "text/plain": [
       "219.0419986980094"
      ]
     },
     "execution_count": 25,
     "metadata": {},
     "output_type": "execute_result"
    }
   ],
   "source": [
    "download = teste.download()\n",
    "(download / 10**6)"
   ]
  },
  {
   "cell_type": "code",
   "execution_count": 27,
   "id": "12b5de96",
   "metadata": {},
   "outputs": [
    {
     "data": {
      "text/plain": [
       "116.24531153975643"
      ]
     },
     "execution_count": 27,
     "metadata": {},
     "output_type": "execute_result"
    }
   ],
   "source": [
    "upload = teste.upload()\n",
    "(upload / 10**6)"
   ]
  },
  {
   "cell_type": "code",
   "execution_count": 28,
   "id": "64e9192d",
   "metadata": {},
   "outputs": [
    {
     "data": {
      "text/plain": [
       "29.95"
      ]
     },
     "execution_count": 28,
     "metadata": {},
     "output_type": "execute_result"
    }
   ],
   "source": [
    "ping = teste.results.ping\n",
    "ping"
   ]
  }
 ],
 "metadata": {
  "kernelspec": {
   "display_name": "Python 3 (ipykernel)",
   "language": "python",
   "name": "python3"
  },
  "language_info": {
   "codemirror_mode": {
    "name": "ipython",
    "version": 3
   },
   "file_extension": ".py",
   "mimetype": "text/x-python",
   "name": "python",
   "nbconvert_exporter": "python",
   "pygments_lexer": "ipython3",
   "version": "3.10.9"
  }
 },
 "nbformat": 4,
 "nbformat_minor": 5
}
